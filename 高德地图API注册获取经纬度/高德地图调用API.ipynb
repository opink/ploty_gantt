{
 "cells": [
  {
   "cell_type": "code",
   "execution_count": 1,
   "metadata": {},
   "outputs": [
    {
     "name": "stdout",
     "output_type": "stream",
     "text": [
      "------------------------------\n",
      "113.941799,22.535864\n"
     ]
    },
    {
     "data": {
      "text/plain": [
       "'113.941799,22.535864'"
      ]
     },
     "execution_count": 1,
     "metadata": {},
     "output_type": "execute_result"
    }
   ],
   "source": [
    "import pandas as pd \n",
    "import requests\n",
    "import time\n",
    "import csv\n",
    "import json\n",
    "\n",
    "def gaode(addr):\n",
    "    para={'address':addr,'key':'b384b9cd71fe7cf97ee5a856d2f9b47f'}\n",
    "    url='https://restapi.amap.com/v3/geocode/geo'\n",
    "    req=requests.get(url,params=para)\n",
    "    req=req.json()\n",
    "    print('-'*30)\n",
    "    m = req['geocodes'][0]['location']\n",
    "    print(m)\n",
    "    return m\n",
    "\n",
    "gaode(addr='深圳市南山区科技南一路')"
   ]
  },
  {
   "cell_type": "code",
   "execution_count": 3,
   "metadata": {},
   "outputs": [
    {
     "name": "stdout",
     "output_type": "stream",
     "text": [
      "------------------------------\n",
      "113.265850,23.148317\n",
      "------------------------------\n",
      "113.256011,23.133993\n",
      "------------------------------\n",
      "113.299985,23.133893\n",
      "------------------------------\n",
      "113.290074,23.128325\n",
      "------------------------------\n",
      "113.292305,23.131968\n",
      "耗时： 0.593538761138916\n"
     ]
    }
   ],
   "source": [
    "df2 = pd.read_excel('gz_school.xlsx')\n",
    "time_start = time.time()\n",
    "df2['经纬度'] = df2['address'].apply(gaode)\n",
    "time_end = time.time()\n",
    "t=time_end-time_start\n",
    "print('耗时：',t)"
   ]
  },
  {
   "cell_type": "code",
   "execution_count": 4,
   "metadata": {},
   "outputs": [],
   "source": [
    "df2.to_csv('gz_school_gaode.csv',index=False)"
   ]
  },
  {
   "cell_type": "code",
   "execution_count": null,
   "metadata": {},
   "outputs": [],
   "source": []
  }
 ],
 "metadata": {
  "interpreter": {
   "hash": "e4cce46d6be9934fbd27f9ca0432556941ea5bdf741d4f4d64c6cd7f8dfa8fba"
  },
  "kernelspec": {
   "display_name": "Python 3.8.5 ('base')",
   "language": "python",
   "name": "python3"
  },
  "language_info": {
   "codemirror_mode": {
    "name": "ipython",
    "version": 3
   },
   "file_extension": ".py",
   "mimetype": "text/x-python",
   "name": "python",
   "nbconvert_exporter": "python",
   "pygments_lexer": "ipython3",
   "version": "3.8.5"
  },
  "orig_nbformat": 4
 },
 "nbformat": 4,
 "nbformat_minor": 2
}
